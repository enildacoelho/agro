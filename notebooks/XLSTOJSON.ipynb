{
  "nbformat": 4,
  "nbformat_minor": 0,
  "metadata": {
    "colab": {
      "name": "XLSTOJSON.ipynb",
      "provenance": [],
      "mount_file_id": "1pG9IRmS42RxcVToofXf5OJ9AsUwHjIJX",
      "authorship_tag": "ABX9TyO5uVCgEj63CgcKSViqFAcZ",
      "include_colab_link": true
    },
    "kernelspec": {
      "name": "python3",
      "display_name": "Python 3"
    },
    "language_info": {
      "name": "python"
    }
  },
  "cells": [
    {
      "cell_type": "markdown",
      "metadata": {
        "id": "view-in-github",
        "colab_type": "text"
      },
      "source": [
        "<a href=\"https://colab.research.google.com/github/enildacoelho/agro/blob/main/notebooks/XLSTOJSON.ipynb\" target=\"_parent\"><img src=\"https://colab.research.google.com/assets/colab-badge.svg\" alt=\"Open In Colab\"/></a>"
      ]
    },
    {
      "cell_type": "code",
      "metadata": {
        "id": "is6UYZOI_OMG"
      },
      "source": [
        "# Carrega as bibliotecas necessárias\n",
        "import pandas as pd\n",
        "import json\n"
      ],
      "execution_count": null,
      "outputs": []
    },
    {
      "cell_type": "code",
      "metadata": {
        "id": "Er97uFha-8ee"
      },
      "source": [
        "# Carrega um arquivo (xlsx)\n",
        "ARQUIVO_DADOS='drive/MyDrive/dados_fao.xlsx'\n",
        "dados_fao=pd.read_excel(ARQUIVO_DADOS )"
      ],
      "execution_count": null,
      "outputs": []
    },
    {
      "cell_type": "code",
      "metadata": {
        "colab": {
          "base_uri": "https://localhost:8080/",
          "height": 291
        },
        "id": "hCCCzNsu3aOY",
        "outputId": "99dc5263-2271-49f1-9c31-83919f9ee19e"
      },
      "source": [
        "# Exibe uma amostra do conjunto de dados\n",
        "dados_fao.head()\n"
      ],
      "execution_count": null,
      "outputs": [
        {
          "output_type": "execute_result",
          "data": {
            "text/html": [
              "<div>\n",
              "<style scoped>\n",
              "    .dataframe tbody tr th:only-of-type {\n",
              "        vertical-align: middle;\n",
              "    }\n",
              "\n",
              "    .dataframe tbody tr th {\n",
              "        vertical-align: top;\n",
              "    }\n",
              "\n",
              "    .dataframe thead th {\n",
              "        text-align: right;\n",
              "    }\n",
              "</style>\n",
              "<table border=\"1\" class=\"dataframe\">\n",
              "  <thead>\n",
              "    <tr style=\"text-align: right;\">\n",
              "      <th></th>\n",
              "      <th>cultivoid</th>\n",
              "      <th>cultura</th>\n",
              "      <th>categoria</th>\n",
              "      <th>duracaofase1 (%)</th>\n",
              "      <th>duracaofase2(%)</th>\n",
              "      <th>duracaofase3(%)</th>\n",
              "      <th>duracaofase4(%)</th>\n",
              "      <th>ciclomin (dias)</th>\n",
              "      <th>ciclomax  (dias)</th>\n",
              "      <th>nomecientifico</th>\n",
              "      <th>kcinicio</th>\n",
              "      <th>kcmed</th>\n",
              "      <th>kcfim</th>\n",
              "      <th>alturamax (metros)</th>\n",
              "    </tr>\n",
              "  </thead>\n",
              "  <tbody>\n",
              "    <tr>\n",
              "      <th>0</th>\n",
              "      <td>1</td>\n",
              "      <td>Batata</td>\n",
              "      <td>Raízes e tubérculos</td>\n",
              "      <td>22</td>\n",
              "      <td>23</td>\n",
              "      <td>35</td>\n",
              "      <td>19</td>\n",
              "      <td>115</td>\n",
              "      <td>165</td>\n",
              "      <td>Solanum tuberosum</td>\n",
              "      <td>0.50</td>\n",
              "      <td>1.15</td>\n",
              "      <td>0.75</td>\n",
              "      <td>0.6</td>\n",
              "    </tr>\n",
              "    <tr>\n",
              "      <th>1</th>\n",
              "      <td>2</td>\n",
              "      <td>Milho Grão</td>\n",
              "      <td>Cereais</td>\n",
              "      <td>17</td>\n",
              "      <td>27</td>\n",
              "      <td>32</td>\n",
              "      <td>24</td>\n",
              "      <td>100</td>\n",
              "      <td>180</td>\n",
              "      <td>Zea mays</td>\n",
              "      <td>0.70</td>\n",
              "      <td>1.20</td>\n",
              "      <td>0.47</td>\n",
              "      <td>2.0</td>\n",
              "    </tr>\n",
              "    <tr>\n",
              "      <th>2</th>\n",
              "      <td>3</td>\n",
              "      <td>Arroz</td>\n",
              "      <td>Cereais</td>\n",
              "      <td>18</td>\n",
              "      <td>18</td>\n",
              "      <td>42</td>\n",
              "      <td>21</td>\n",
              "      <td>150</td>\n",
              "      <td>180</td>\n",
              "      <td>Oryza sativa</td>\n",
              "      <td>1.05</td>\n",
              "      <td>1.20</td>\n",
              "      <td>0.06</td>\n",
              "      <td>1.0</td>\n",
              "    </tr>\n",
              "    <tr>\n",
              "      <th>3</th>\n",
              "      <td>4</td>\n",
              "      <td>Feijão comum</td>\n",
              "      <td>Leguminosas</td>\n",
              "      <td>17</td>\n",
              "      <td>28</td>\n",
              "      <td>39</td>\n",
              "      <td>17</td>\n",
              "      <td>70</td>\n",
              "      <td>110</td>\n",
              "      <td>Phaseolus vulgaris</td>\n",
              "      <td>0.40</td>\n",
              "      <td>1.15</td>\n",
              "      <td>0.35</td>\n",
              "      <td>0.4</td>\n",
              "    </tr>\n",
              "    <tr>\n",
              "      <th>4</th>\n",
              "      <td>5</td>\n",
              "      <td>Sorgo</td>\n",
              "      <td>Cereais</td>\n",
              "      <td>16</td>\n",
              "      <td>27</td>\n",
              "      <td>33</td>\n",
              "      <td>24</td>\n",
              "      <td>100</td>\n",
              "      <td>140</td>\n",
              "      <td>Sorghum bicolor</td>\n",
              "      <td>0.00</td>\n",
              "      <td>1.10</td>\n",
              "      <td>0.55</td>\n",
              "      <td>2.0</td>\n",
              "    </tr>\n",
              "  </tbody>\n",
              "</table>\n",
              "</div>"
            ],
            "text/plain": [
              "   cultivoid       cultura  ... kcfim  alturamax (metros)\n",
              "0          1        Batata  ...  0.75                 0.6\n",
              "1          2    Milho Grão  ...  0.47                 2.0\n",
              "2          3         Arroz  ...  0.06                 1.0\n",
              "3          4  Feijão comum  ...  0.35                 0.4\n",
              "4          5         Sorgo  ...  0.55                 2.0\n",
              "\n",
              "[5 rows x 14 columns]"
            ]
          },
          "metadata": {
            "tags": []
          },
          "execution_count": 36
        }
      ]
    },
    {
      "cell_type": "code",
      "metadata": {
        "id": "UFq_Qx1t_UJu"
      },
      "source": [
        "# Exporta para um arquivo JSON\n",
        "\n",
        "dados_fao.to_json('fao_kc.json')"
      ],
      "execution_count": null,
      "outputs": []
    }
  ]
}